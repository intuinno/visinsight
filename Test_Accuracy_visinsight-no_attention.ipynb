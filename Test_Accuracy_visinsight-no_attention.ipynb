{
 "cells": [
  {
   "cell_type": "code",
   "execution_count": 5,
   "metadata": {},
   "outputs": [
    {
     "data": {
      "text/plain": [
       "u'/home/intuinno/codegit/visinsight'"
      ]
     },
     "execution_count": 5,
     "metadata": {},
     "output_type": "execute_result"
    }
   ],
   "source": [
    "pwd"
   ]
  },
  {
   "cell_type": "code",
   "execution_count": 6,
   "metadata": {},
   "outputs": [
    {
     "ename": "KeyError",
     "evalue": "'missing keys in state_dict: \"set([\\'fc.weight\\', \\'fc.bias\\'])\"'",
     "output_type": "error",
     "traceback": [
      "\u001b[0;31m---------------------------------------------------------------------\u001b[0m",
      "\u001b[0;31mKeyError\u001b[0m                            Traceback (most recent call last)",
      "\u001b[0;32m<ipython-input-6-0320e561965c>\u001b[0m in \u001b[0;36m<module>\u001b[0;34m()\u001b[0m\n\u001b[1;32m     54\u001b[0m \u001b[0;34m\u001b[0m\u001b[0m\n\u001b[1;32m     55\u001b[0m \u001b[0;31m# Load the trained model parameters\u001b[0m\u001b[0;34m\u001b[0m\u001b[0;34m\u001b[0m\u001b[0m\n\u001b[0;32m---> 56\u001b[0;31m \u001b[0mencoder\u001b[0m\u001b[0;34m.\u001b[0m\u001b[0mload_state_dict\u001b[0m\u001b[0;34m(\u001b[0m\u001b[0mtorch\u001b[0m\u001b[0;34m.\u001b[0m\u001b[0mload\u001b[0m\u001b[0;34m(\u001b[0m\u001b[0mencoder_path\u001b[0m\u001b[0;34m)\u001b[0m\u001b[0;34m)\u001b[0m\u001b[0;34m\u001b[0m\u001b[0m\n\u001b[0m\u001b[1;32m     57\u001b[0m \u001b[0mdecoder\u001b[0m\u001b[0;34m.\u001b[0m\u001b[0mload_state_dict\u001b[0m\u001b[0;34m(\u001b[0m\u001b[0mtorch\u001b[0m\u001b[0;34m.\u001b[0m\u001b[0mload\u001b[0m\u001b[0;34m(\u001b[0m\u001b[0mdecoder_path\u001b[0m\u001b[0;34m)\u001b[0m\u001b[0;34m)\u001b[0m\u001b[0;34m\u001b[0m\u001b[0m\n\u001b[1;32m     58\u001b[0m \u001b[0;34m\u001b[0m\u001b[0m\n",
      "\u001b[0;32m/home/intuinno/anaconda2/lib/python2.7/site-packages/torch/nn/modules/module.pyc\u001b[0m in \u001b[0;36mload_state_dict\u001b[0;34m(self, state_dict)\u001b[0m\n\u001b[1;32m    367\u001b[0m         \u001b[0mmissing\u001b[0m \u001b[0;34m=\u001b[0m \u001b[0mset\u001b[0m\u001b[0;34m(\u001b[0m\u001b[0mown_state\u001b[0m\u001b[0;34m.\u001b[0m\u001b[0mkeys\u001b[0m\u001b[0;34m(\u001b[0m\u001b[0;34m)\u001b[0m\u001b[0;34m)\u001b[0m \u001b[0;34m-\u001b[0m \u001b[0mset\u001b[0m\u001b[0;34m(\u001b[0m\u001b[0mstate_dict\u001b[0m\u001b[0;34m.\u001b[0m\u001b[0mkeys\u001b[0m\u001b[0;34m(\u001b[0m\u001b[0;34m)\u001b[0m\u001b[0;34m)\u001b[0m\u001b[0;34m\u001b[0m\u001b[0m\n\u001b[1;32m    368\u001b[0m         \u001b[0;32mif\u001b[0m \u001b[0mlen\u001b[0m\u001b[0;34m(\u001b[0m\u001b[0mmissing\u001b[0m\u001b[0;34m)\u001b[0m \u001b[0;34m>\u001b[0m \u001b[0;36m0\u001b[0m\u001b[0;34m:\u001b[0m\u001b[0;34m\u001b[0m\u001b[0m\n\u001b[0;32m--> 369\u001b[0;31m             \u001b[0;32mraise\u001b[0m \u001b[0mKeyError\u001b[0m\u001b[0;34m(\u001b[0m\u001b[0;34m'missing keys in state_dict: \"{}\"'\u001b[0m\u001b[0;34m.\u001b[0m\u001b[0mformat\u001b[0m\u001b[0;34m(\u001b[0m\u001b[0mmissing\u001b[0m\u001b[0;34m)\u001b[0m\u001b[0;34m)\u001b[0m\u001b[0;34m\u001b[0m\u001b[0m\n\u001b[0m\u001b[1;32m    370\u001b[0m \u001b[0;34m\u001b[0m\u001b[0m\n\u001b[1;32m    371\u001b[0m     \u001b[0;32mdef\u001b[0m \u001b[0mparameters\u001b[0m\u001b[0;34m(\u001b[0m\u001b[0mself\u001b[0m\u001b[0;34m)\u001b[0m\u001b[0;34m:\u001b[0m\u001b[0;34m\u001b[0m\u001b[0m\n",
      "\u001b[0;31mKeyError\u001b[0m: 'missing keys in state_dict: \"set([\\'fc.weight\\', \\'fc.bias\\'])\"'"
     ]
    }
   ],
   "source": [
    "import torch\n",
    "import matplotlib.pyplot as plt\n",
    "import numpy as np \n",
    "import argparse\n",
    "import pickle \n",
    "import os\n",
    "from torch.autograd import Variable \n",
    "from torchvision import transforms \n",
    "from build_vocab import build_vocab, Vocabulary\n",
    "from model import EncoderCNN, DecoderRNN\n",
    "from model import ResNet, ResidualBlock\n",
    "from PIL import Image\n",
    "\n",
    "\n",
    "embed_size = 256\n",
    "hidden_size = 512 \n",
    "num_layers = 1 \n",
    "decoder_path = './models/visinsight_attn/decoder-10-9950.pkl'\n",
    "encoder_path = './models/visinsight_attn/encoder-10-9950.pkl'\n",
    "\n",
    "\n",
    "def to_var(x, volatile=False):\n",
    "    if torch.cuda.is_available():\n",
    "        x = x.cuda()\n",
    "    return Variable(x, volatile=volatile)\n",
    "\n",
    "def load_image(image_path, transform=None):\n",
    "    image = Image.open(image_path).convert('RGB')\n",
    "    image = image.resize([128, 128], Image.LANCZOS)\n",
    "    \n",
    "    if transform is not None:\n",
    "        image = transform(image).unsqueeze(0)\n",
    "    \n",
    "    return image\n",
    "\n",
    "transform = transforms.Compose([ \n",
    "    transforms.ToTensor(), \n",
    "    transforms.Normalize((0.033, 0.032, 0.033), \n",
    "                         (0.027, 0.027, 0.027))])\n",
    "\n",
    "\n",
    "\n",
    "vocab_path = './data/train1/vocab.pkl'\n",
    "with open(vocab_path, 'rb') as f:\n",
    "    vocab = pickle.load(f)\n",
    "len_vocab = vocab.idx\n",
    "\n",
    "# Build Models\n",
    "encoder = ResNet(ResidualBlock, [3, 3, 3], len_vocab)\n",
    "encoder.eval()  # evaluation mode (BN uses moving mean/variance)\n",
    "decoder = DecoderRNN(len_vocab, hidden_size, \n",
    "                     len(vocab), num_layers)\n",
    "\n",
    "\n",
    "# Load the trained model parameters\n",
    "encoder.load_state_dict(torch.load(encoder_path))\n",
    "decoder.load_state_dict(torch.load(decoder_path))\n",
    "\n",
    "# If use gpu\n",
    "if torch.cuda.is_available():\n",
    "    encoder.cuda()\n",
    "    decoder.cuda()\n",
    "\n",
    "    "
   ]
  },
  {
   "cell_type": "code",
   "execution_count": 2,
   "metadata": {
    "collapsed": true,
    "scrolled": true
   },
   "outputs": [],
   "source": [
    "test_dir = 'data/validation2/png/'\n",
    "# cap_dir = 'data/2object_test/caption/'\n",
    "test_list = os.listdir(test_dir)\n",
    "cnt = 0 \n",
    "\n",
    "test_result = {}\n",
    "for fname in test_list: \n",
    "    #cnt+=1 \n",
    "    if cnt>2:\n",
    "        break;\n",
    "    test_path = test_dir + fname\n",
    "    test_image = load_image(test_path, transform)\n",
    "    image_tensor = to_var(test_image)\n",
    "    \n",
    "    # Generate caption from image\n",
    "    feature = encoder(image_tensor)\n",
    "    sampled_ids = decoder.sample(feature)\n",
    "    ids_arr = []\n",
    "    for element in sampled_ids: \n",
    "        temp = element.cpu().data.numpy()\n",
    "        ids_arr.append(int(temp))\n",
    "#     print(fname)\n",
    "\n",
    "    # Decode word_ids to words\n",
    "    sampled_caption = []\n",
    "    for word_id in ids_arr:\n",
    "        word = vocab.idx2word[word_id]\n",
    "        sampled_caption.append(word)\n",
    "        if word == '<end>':\n",
    "            break\n",
    "    in_caption = sampled_caption[1:-1]\n",
    "#     print(in_caption)\n",
    "    \n",
    "#     print('------------------------------------')\n",
    "    test_result[fname] = in_caption\n",
    "    \n"
   ]
  },
  {
   "cell_type": "code",
   "execution_count": 4,
   "metadata": {
    "collapsed": true
   },
   "outputs": [],
   "source": [
    "import json\n",
    "with open('test_result.json', 'w') as f:\n",
    "    json.dump(test_result, f)"
   ]
  },
  {
   "cell_type": "code",
   "execution_count": null,
   "metadata": {
    "collapsed": true
   },
   "outputs": [],
   "source": [
    "        \n",
    "print('shape match: %.4f, location match: %.4f,location match_rect: %.4f, radius_match: %.4f, rect_x_match: %.4f, rect_y_match: %.4f color_match: %.4f'\n",
    "     %(shape_match/(len(test_list)*2), location_match/(len(test_list)*2), location_match_rect/(len(test_list)*2),\n",
    "      radius_match/len(test_list), rect_x_match/len(test_list), rect_y_match/len(test_list), color_match/(len(test_list)*2)))\n"
   ]
  },
  {
   "cell_type": "code",
   "execution_count": null,
   "metadata": {
    "collapsed": true
   },
   "outputs": [],
   "source": [
    "x_ = {x:rect_x_err.count(x) for x in rect_x_err}\n",
    "y_ = {x:rect_y_err.count(x) for x in rect_y_err}\n",
    "r_ = {x:radius_err.count(x) for x in radius_err}\n",
    "loc_ ={x:location_err.count(x) for x in location_err}\n",
    "loc_rect_ = {x:location_err_rect.count(x) for x in location_err_rect}"
   ]
  },
  {
   "cell_type": "code",
   "execution_count": null,
   "metadata": {
    "collapsed": true
   },
   "outputs": [],
   "source": [
    "x_"
   ]
  },
  {
   "cell_type": "code",
   "execution_count": null,
   "metadata": {
    "collapsed": true,
    "scrolled": true
   },
   "outputs": [],
   "source": [
    "test_dir = 'data/2object_test/bitmap/'\n",
    "cap_dir = 'data/2object_test/caption/'\n",
    "test_list = os.listdir(test_dir)\n",
    "cnt = 0 \n",
    "\n",
    "for fname in test_list: \n",
    "    test_path = test_dir + fname\n",
    "    test_image = load_image(test_path, transform)\n",
    "    image_tensor = to_var(test_image)\n",
    "    \n",
    "    # Generate caption from image\n",
    "    feature = encoder(image_tensor)\n",
    "    sampled_ids = decoder.sample(feature)\n",
    "    ids_arr = []\n",
    "    for element in sampled_ids: \n",
    "        temp = element.cpu().data.numpy()\n",
    "        ids_arr.append(int(temp))\n",
    "\n",
    "\n",
    "    # Decode word_ids to words\n",
    "    sampled_caption = []\n",
    "    for word_id in ids_arr:\n",
    "        word = vocab.idx2word[word_id]\n",
    "        sampled_caption.append(word)\n",
    "        if word == '<end>':\n",
    "            break\n",
    "    sentence = ' '.join(sampled_caption)\n",
    "    print(sentence)\n",
    "    predict = sentence.split()[1]\n",
    "    \n",
    "    cap_target = cap_dir+fname\n",
    "    cap_path = cap_target.split('.')[0]+'.svg'\n",
    "    with open(cap_path, 'r') as f:\n",
    "        target = f.readline()\n",
    "        print('target: '+ target)\n",
    "    if predict == target:\n",
    "        print('corret')\n",
    "    #    cnt+=1 \n",
    "        \n",
    "print(cnt)\n",
    "    \n",
    "    \n",
    "    "
   ]
  },
  {
   "cell_type": "code",
   "execution_count": null,
   "metadata": {
    "collapsed": true
   },
   "outputs": [],
   "source": [
    "feature.unsqueeze(1)"
   ]
  },
  {
   "cell_type": "code",
   "execution_count": null,
   "metadata": {
    "collapsed": true
   },
   "outputs": [],
   "source": [
    "cap_path = img_list[0].split('.')[0]+'.svg'"
   ]
  },
  {
   "cell_type": "code",
   "execution_count": null,
   "metadata": {
    "collapsed": true
   },
   "outputs": [],
   "source": [
    "cap_path"
   ]
  }
 ],
 "metadata": {
  "anaconda-cloud": {},
  "kernelspec": {
   "display_name": "Python 2",
   "language": "python",
   "name": "python2"
  },
  "language_info": {
   "codemirror_mode": {
    "name": "ipython",
    "version": 2
   },
   "file_extension": ".py",
   "mimetype": "text/x-python",
   "name": "python",
   "nbconvert_exporter": "python",
   "pygments_lexer": "ipython2",
   "version": "2.7.14"
  }
 },
 "nbformat": 4,
 "nbformat_minor": 2
}
